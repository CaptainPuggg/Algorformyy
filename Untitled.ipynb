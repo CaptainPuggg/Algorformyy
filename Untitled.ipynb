{
 "cells": [
  {
   "cell_type": "code",
   "execution_count": 44,
   "metadata": {},
   "outputs": [],
   "source": [
    "import pandas as pd"
   ]
  },
  {
   "cell_type": "code",
   "execution_count": 45,
   "metadata": {},
   "outputs": [],
   "source": [
    "stock_price=pd.read_excel('portfolio.xlsx',sheet_name='stock_price')\n",
    "sales_value=pd.read_excel('portfolio.xlsx',sheet_name='sales_value')\n",
    "sales_unit=pd.read_excel('portfolio.xlsx',sheet_name='sales_unit')"
   ]
  },
  {
   "cell_type": "code",
   "execution_count": 46,
   "metadata": {},
   "outputs": [],
   "source": [
    "def date(df_):\n",
    "    df_= pd.to_datetime(df_)\n",
    "    return df_"
   ]
  },
  {
   "cell_type": "code",
   "execution_count": 47,
   "metadata": {},
   "outputs": [],
   "source": [
    "stock_price['date']=date(stock_price['date'])\n",
    "sales_value['date']=date(sales_value['date'])\n",
    "sales_unit['date']=date(sales_unit['date'])\n"
   ]
  },
  {
   "cell_type": "code",
   "execution_count": 22,
   "metadata": {},
   "outputs": [
    {
     "data": {
      "text/plain": [
       "Timestamp('2019-08-01 00:00:00')"
      ]
     },
     "execution_count": 22,
     "metadata": {},
     "output_type": "execute_result"
    }
   ],
   "source": [
    "pd.to_datetime('2019-8')"
   ]
  },
  {
   "cell_type": "code",
   "execution_count": 100,
   "metadata": {},
   "outputs": [],
   "source": [
    "def mom(n,pre,ratio): # n+pre<24\n",
    "    dic={}\n",
    "    if(pre.month+n)-13>0:\n",
    "        c_m=pre.month+n-12\n",
    "        c_y=pre.year+1\n",
    "    else:\n",
    "        c_m=pre.month+n\n",
    "        c_y=pre.year\n",
    "    c_date=pd.to_datetime(str(c_y)+'-'+str(c_m))\n",
    "    p_date=pre\n",
    "    # calculate\n",
    "    for i in range(1,len(sales_value[sales_value.index==c_date].columns)):\n",
    "        c_value=int(sales_value.loc[sales_value['date']==c_date,sales_value.columns[i]])\n",
    "        p_value=int(sales_value.loc[sales_value['date']==p_date,sales_value.columns[i]])\n",
    "        dic.update({i:c_value/p_value})\n",
    "    lst=sorted(dic.values())\n",
    "    number=int(ratio*(len(sales_value[sales_value.index==c_date].columns)-1))\n",
    "    lst_top=[]\n",
    "    lst_bot=[]\n",
    "    for num in range(number):\n",
    "        for key, value in dic.items():\n",
    "            if value== lst[num]:\n",
    "                lst_bot.append(key)\n",
    "        for key, value in dic.items():\n",
    "            if value== lst[-num-1]:\n",
    "                lst_top.append(key)\n",
    "    return lst_top,lst_bot"
   ]
  },
  {
   "cell_type": "code",
   "execution_count": 104,
   "metadata": {},
   "outputs": [],
   "source": [
    "top,bot=mom(1,pd.to_datetime('2016-3'),0.25)"
   ]
  },
  {
   "cell_type": "code",
   "execution_count": 103,
   "metadata": {
    "scrolled": true
   },
   "outputs": [
    {
     "data": {
      "text/html": [
       "<div>\n",
       "<style scoped>\n",
       "    .dataframe tbody tr th:only-of-type {\n",
       "        vertical-align: middle;\n",
       "    }\n",
       "\n",
       "    .dataframe tbody tr th {\n",
       "        vertical-align: top;\n",
       "    }\n",
       "\n",
       "    .dataframe thead th {\n",
       "        text-align: right;\n",
       "    }\n",
       "</style>\n",
       "<table border=\"1\" class=\"dataframe\">\n",
       "  <thead>\n",
       "    <tr style=\"text-align: right;\">\n",
       "      <th></th>\n",
       "      <th>date</th>\n",
       "      <th>equity A</th>\n",
       "      <th>equity B</th>\n",
       "      <th>equity C</th>\n",
       "      <th>equity D</th>\n",
       "      <th>equity E</th>\n",
       "      <th>equity F</th>\n",
       "      <th>equity G</th>\n",
       "      <th>equity H</th>\n",
       "    </tr>\n",
       "  </thead>\n",
       "  <tbody>\n",
       "    <tr>\n",
       "      <th>0</th>\n",
       "      <td>2016-03-01</td>\n",
       "      <td>69</td>\n",
       "      <td>56</td>\n",
       "      <td>58</td>\n",
       "      <td>75</td>\n",
       "      <td>85</td>\n",
       "      <td>98</td>\n",
       "      <td>69</td>\n",
       "      <td>52</td>\n",
       "    </tr>\n",
       "    <tr>\n",
       "      <th>1</th>\n",
       "      <td>2016-03-04</td>\n",
       "      <td>78</td>\n",
       "      <td>51</td>\n",
       "      <td>81</td>\n",
       "      <td>76</td>\n",
       "      <td>80</td>\n",
       "      <td>78</td>\n",
       "      <td>84</td>\n",
       "      <td>58</td>\n",
       "    </tr>\n",
       "    <tr>\n",
       "      <th>2</th>\n",
       "      <td>2016-03-05</td>\n",
       "      <td>67</td>\n",
       "      <td>70</td>\n",
       "      <td>53</td>\n",
       "      <td>75</td>\n",
       "      <td>54</td>\n",
       "      <td>63</td>\n",
       "      <td>66</td>\n",
       "      <td>87</td>\n",
       "    </tr>\n",
       "    <tr>\n",
       "      <th>3</th>\n",
       "      <td>2016-03-06</td>\n",
       "      <td>82</td>\n",
       "      <td>71</td>\n",
       "      <td>55</td>\n",
       "      <td>63</td>\n",
       "      <td>59</td>\n",
       "      <td>67</td>\n",
       "      <td>86</td>\n",
       "      <td>89</td>\n",
       "    </tr>\n",
       "    <tr>\n",
       "      <th>4</th>\n",
       "      <td>2016-03-20</td>\n",
       "      <td>91</td>\n",
       "      <td>80</td>\n",
       "      <td>70</td>\n",
       "      <td>51</td>\n",
       "      <td>63</td>\n",
       "      <td>88</td>\n",
       "      <td>93</td>\n",
       "      <td>88</td>\n",
       "    </tr>\n",
       "    <tr>\n",
       "      <th>5</th>\n",
       "      <td>2016-04-04</td>\n",
       "      <td>50</td>\n",
       "      <td>79</td>\n",
       "      <td>59</td>\n",
       "      <td>83</td>\n",
       "      <td>57</td>\n",
       "      <td>73</td>\n",
       "      <td>71</td>\n",
       "      <td>65</td>\n",
       "    </tr>\n",
       "    <tr>\n",
       "      <th>6</th>\n",
       "      <td>2016-04-07</td>\n",
       "      <td>56</td>\n",
       "      <td>62</td>\n",
       "      <td>83</td>\n",
       "      <td>70</td>\n",
       "      <td>98</td>\n",
       "      <td>54</td>\n",
       "      <td>83</td>\n",
       "      <td>83</td>\n",
       "    </tr>\n",
       "    <tr>\n",
       "      <th>7</th>\n",
       "      <td>2016-04-25</td>\n",
       "      <td>87</td>\n",
       "      <td>91</td>\n",
       "      <td>72</td>\n",
       "      <td>87</td>\n",
       "      <td>84</td>\n",
       "      <td>86</td>\n",
       "      <td>56</td>\n",
       "      <td>90</td>\n",
       "    </tr>\n",
       "    <tr>\n",
       "      <th>8</th>\n",
       "      <td>2016-05-04</td>\n",
       "      <td>75</td>\n",
       "      <td>78</td>\n",
       "      <td>96</td>\n",
       "      <td>75</td>\n",
       "      <td>57</td>\n",
       "      <td>65</td>\n",
       "      <td>50</td>\n",
       "      <td>82</td>\n",
       "    </tr>\n",
       "    <tr>\n",
       "      <th>9</th>\n",
       "      <td>2016-05-08</td>\n",
       "      <td>100</td>\n",
       "      <td>54</td>\n",
       "      <td>76</td>\n",
       "      <td>100</td>\n",
       "      <td>75</td>\n",
       "      <td>93</td>\n",
       "      <td>92</td>\n",
       "      <td>67</td>\n",
       "    </tr>\n",
       "    <tr>\n",
       "      <th>10</th>\n",
       "      <td>2016-05-18</td>\n",
       "      <td>100</td>\n",
       "      <td>59</td>\n",
       "      <td>78</td>\n",
       "      <td>66</td>\n",
       "      <td>96</td>\n",
       "      <td>98</td>\n",
       "      <td>70</td>\n",
       "      <td>98</td>\n",
       "    </tr>\n",
       "  </tbody>\n",
       "</table>\n",
       "</div>"
      ],
      "text/plain": [
       "         date  equity A  equity B  equity C  equity D  equity E  equity F  \\\n",
       "0  2016-03-01        69        56        58        75        85        98   \n",
       "1  2016-03-04        78        51        81        76        80        78   \n",
       "2  2016-03-05        67        70        53        75        54        63   \n",
       "3  2016-03-06        82        71        55        63        59        67   \n",
       "4  2016-03-20        91        80        70        51        63        88   \n",
       "5  2016-04-04        50        79        59        83        57        73   \n",
       "6  2016-04-07        56        62        83        70        98        54   \n",
       "7  2016-04-25        87        91        72        87        84        86   \n",
       "8  2016-05-04        75        78        96        75        57        65   \n",
       "9  2016-05-08       100        54        76       100        75        93   \n",
       "10 2016-05-18       100        59        78        66        96        98   \n",
       "\n",
       "    equity G  equity H  \n",
       "0         69        52  \n",
       "1         84        58  \n",
       "2         66        87  \n",
       "3         86        89  \n",
       "4         93        88  \n",
       "5         71        65  \n",
       "6         83        83  \n",
       "7         56        90  \n",
       "8         50        82  \n",
       "9         92        67  \n",
       "10        70        98  "
      ]
     },
     "execution_count": 103,
     "metadata": {},
     "output_type": "execute_result"
    }
   ],
   "source": [
    "stock_price"
   ]
  },
  {
   "cell_type": "code",
   "execution_count": 115,
   "metadata": {},
   "outputs": [
    {
     "data": {
      "text/plain": [
       "81"
      ]
     },
     "execution_count": 115,
     "metadata": {},
     "output_type": "execute_result"
    }
   ],
   "source": [
    "stock_price.iloc[1,3]"
   ]
  },
  {
   "cell_type": "code",
   "execution_count": 114,
   "metadata": {},
   "outputs": [],
   "source": [
    "s=5\n",
    "e=8"
   ]
  },
  {
   "cell_type": "code",
   "execution_count": 119,
   "metadata": {},
   "outputs": [],
   "source": [
    "lst_p=[]\n",
    "lst_n=[]\n",
    "\n",
    "n=len(top)\n",
    "for i in range(s+1,e):\n",
    "    for x in range(n):\n",
    "        lst_p.append((stock_price.iloc[i,top[x]]/stock_price.iloc[s,top[x]])*1000)        \n",
    "        lst_n.append((stock_price.iloc[i,bot[x]]/stock_price.iloc[s,top[x]])*(-1000))\n",
    "        "
   ]
  },
  {
   "cell_type": "code",
   "execution_count": 120,
   "metadata": {},
   "outputs": [
    {
     "data": {
      "text/plain": [
       "[843.3734939759037, 1719.298245614035, 1048.1927710843372, 1473.6842105263156]"
      ]
     },
     "execution_count": 120,
     "metadata": {},
     "output_type": "execute_result"
    }
   ],
   "source": [
    "lst_p"
   ]
  },
  {
   "cell_type": "code",
   "execution_count": 121,
   "metadata": {},
   "outputs": [
    {
     "data": {
      "text/plain": [
       "[-674.6987951807229,\n",
       " -1456.140350877193,\n",
       " -1048.1927710843372,\n",
       " -1263.157894736842]"
      ]
     },
     "execution_count": 121,
     "metadata": {},
     "output_type": "execute_result"
    }
   ],
   "source": [
    "lst_n"
   ]
  },
  {
   "cell_type": "code",
   "execution_count": 112,
   "metadata": {},
   "outputs": [
    {
     "data": {
      "text/plain": [
       "date        2016-03-01 00:00:00\n",
       "equity A                     69\n",
       "equity B                     56\n",
       "equity C                     58\n",
       "equity D                     75\n",
       "equity E                     85\n",
       "equity F                     98\n",
       "equity G                     69\n",
       "equity H                     52\n",
       "Name: 0, dtype: object"
      ]
     },
     "execution_count": 112,
     "metadata": {},
     "output_type": "execute_result"
    }
   ],
   "source": [
    "stock_price.iloc[0]"
   ]
  },
  {
   "cell_type": "code",
   "execution_count": null,
   "metadata": {},
   "outputs": [],
   "source": []
  }
 ],
 "metadata": {
  "kernelspec": {
   "display_name": "Python 3",
   "language": "python",
   "name": "python3"
  },
  "language_info": {
   "codemirror_mode": {
    "name": "ipython",
    "version": 3
   },
   "file_extension": ".py",
   "mimetype": "text/x-python",
   "name": "python",
   "nbconvert_exporter": "python",
   "pygments_lexer": "ipython3",
   "version": "3.6.5"
  }
 },
 "nbformat": 4,
 "nbformat_minor": 2
}
